{
  "nbformat": 4,
  "nbformat_minor": 0,
  "metadata": {
    "colab": {
      "provenance": [],
      "toc_visible": true,
      "authorship_tag": "ABX9TyP2zmeoS1aLeE9ONsKGO0it",
      "include_colab_link": true
    },
    "kernelspec": {
      "name": "python3",
      "display_name": "Python 3"
    },
    "language_info": {
      "name": "python"
    }
  },
  "cells": [
    {
      "cell_type": "markdown",
      "metadata": {
        "id": "view-in-github",
        "colab_type": "text"
      },
      "source": [
        "<a href=\"https://colab.research.google.com/github/Muskan-patel/python-code/blob/main/Practice2.ipynb\" target=\"_parent\"><img src=\"https://colab.research.google.com/assets/colab-badge.svg\" alt=\"Open In Colab\"/></a>"
      ]
    },
    {
      "cell_type": "code",
      "execution_count": null,
      "metadata": {
        "colab": {
          "base_uri": "https://localhost:8080/"
        },
        "id": "DhAXl42boHNN",
        "outputId": "fd62408d-07e2-4a78-8a4a-d9e247d317a6"
      },
      "outputs": [
        {
          "output_type": "stream",
          "name": "stdout",
          "text": [
            "Hello World\n"
          ]
        }
      ],
      "source": [
        "print('Hello World');"
      ]
    },
    {
      "cell_type": "code",
      "source": [
        "num1 = 5\n",
        "num2 =10\n",
        "sum = num1+ num2;\n",
        "print(\"sum:\",sum)\n",
        "\"\"\" x = 5\n",
        "y= 10\n",
        "\n",
        "print(x + y)\n",
        "\"\"\""
      ],
      "metadata": {
        "colab": {
          "base_uri": "https://localhost:8080/",
          "height": 53
        },
        "id": "lb-ZVWk9ojkf",
        "outputId": "57254c5e-3dac-4e8d-d522-9b6b011b72ee"
      },
      "execution_count": null,
      "outputs": [
        {
          "output_type": "stream",
          "name": "stdout",
          "text": [
            "sum: 15\n"
          ]
        },
        {
          "output_type": "execute_result",
          "data": {
            "text/plain": [
              "' x = 5\\ny= 10\\n\\nprint(x + y)\\n'"
            ],
            "application/vnd.google.colaboratory.intrinsic+json": {
              "type": "string"
            }
          },
          "metadata": {},
          "execution_count": 29
        }
      ]
    },
    {
      "cell_type": "code",
      "source": [
        "#global Varaible\n",
        "\n",
        "x = \"awesome\"\n",
        "\n",
        "def myfun():\n",
        "  print(\"python is\",  x)\n",
        "myfun()\n"
      ],
      "metadata": {
        "colab": {
          "base_uri": "https://localhost:8080/"
        },
        "id": "e71-AELZymyv",
        "outputId": "4d1d163b-bae5-4fa8-d8da-43b0de14777b"
      },
      "execution_count": null,
      "outputs": [
        {
          "output_type": "stream",
          "name": "stdout",
          "text": [
            "python is awesome\n"
          ]
        }
      ]
    },
    {
      "cell_type": "code",
      "source": [
        "MyList = [\"dsa\", \"CN\", \"WD\"]\n",
        "print(MyList)\n",
        "print(len(MyList))\n"
      ],
      "metadata": {
        "colab": {
          "base_uri": "https://localhost:8080/"
        },
        "id": "kmm7-6q01l7Y",
        "outputId": "b74c47be-d0b9-43be-d7c0-742398155355"
      },
      "execution_count": null,
      "outputs": [
        {
          "output_type": "stream",
          "name": "stdout",
          "text": [
            "['dsa', 'CN', 'WD']\n",
            "3\n"
          ]
        }
      ]
    },
    {
      "cell_type": "code",
      "source": [],
      "metadata": {
        "id": "Lb-r0SDaiXwP"
      },
      "execution_count": null,
      "outputs": []
    },
    {
      "cell_type": "code",
      "source": [
        "list1 = [\"CRICKET\",\"BATMINTON\",\"FOOTBALL\"]\n",
        "#list1.append(\"Sports\")\n",
        "list1.insert(0, \"SPORTS\")\n",
        "print(list1)"
      ],
      "metadata": {
        "colab": {
          "base_uri": "https://localhost:8080/"
        },
        "id": "va7lsmz3yoKH",
        "outputId": "5ba81b5f-ed68-4e50-8aba-68d218f89f1e"
      },
      "execution_count": null,
      "outputs": [
        {
          "output_type": "stream",
          "name": "stdout",
          "text": [
            "['SPORTS', 'CRICKET', 'BATMINTON', 'FOOTBALL']\n"
          ]
        }
      ]
    },
    {
      "cell_type": "code",
      "source": [
        "list2 = [\"girls\", \"boys\", \"male\",\"muskan\"]\n",
        "list2[3] = \"female\"\n",
        "print(list2)\n"
      ],
      "metadata": {
        "colab": {
          "base_uri": "https://localhost:8080/"
        },
        "id": "il6E7NLRypuv",
        "outputId": "1e395ef0-73dd-4377-f662-e263ea7b54ee"
      },
      "execution_count": null,
      "outputs": [
        {
          "output_type": "stream",
          "name": "stdout",
          "text": [
            "['girls', 'boys', 'male', 'female']\n"
          ]
        }
      ]
    },
    {
      "cell_type": "code",
      "source": [
        "a= input(\"Enter First Number\")\n",
        "b= input(\"Enter Second number\")\n",
        "sum = float(a)+float(b)\n",
        "print(\"The sum of a and b\",sum)"
      ],
      "metadata": {
        "colab": {
          "base_uri": "https://localhost:8080/"
        },
        "id": "f_n8jkPmpGW3",
        "outputId": "6817aba1-9d25-451b-e178-c0ba441c2ae7"
      },
      "execution_count": null,
      "outputs": [
        {
          "output_type": "stream",
          "name": "stdout",
          "text": [
            "Enter First Number10.5\n",
            "Enter Second number5.5\n",
            "The sum of a and b 16.0\n"
          ]
        }
      ]
    },
    {
      "cell_type": "code",
      "source": [
        "num1 = 10\n",
        "num2 = 5\n",
        "sub = num1-num2\n",
        "print(\"Subtract:\", sub)\n"
      ],
      "metadata": {
        "colab": {
          "base_uri": "https://localhost:8080/"
        },
        "id": "MiuzVtu2qlM-",
        "outputId": "583fa2b9-bd8d-4250-f4d4-7b437df7a954"
      },
      "execution_count": null,
      "outputs": [
        {
          "output_type": "stream",
          "name": "stdout",
          "text": [
            "Subtract: 5\n"
          ]
        }
      ]
    },
    {
      "cell_type": "code",
      "source": [
        "num1 = 3\n",
        "num2 = 3\n",
        "into = num1*num2\n",
        "print(\"Multiply :\", into)\n"
      ],
      "metadata": {
        "colab": {
          "base_uri": "https://localhost:8080/"
        },
        "id": "As44lHL3q6rm",
        "outputId": "6f3de4d7-949b-40db-c735-1dc09650172f"
      },
      "execution_count": null,
      "outputs": [
        {
          "output_type": "stream",
          "name": "stdout",
          "text": [
            "Multiply : 9\n"
          ]
        }
      ]
    },
    {
      "cell_type": "code",
      "source": [
        "x = 10\n",
        "y = \"Muskan\"\n",
        "print(x)\n",
        "print(y)"
      ],
      "metadata": {
        "colab": {
          "base_uri": "https://localhost:8080/"
        },
        "id": "OHjklsRWr9dn",
        "outputId": "d6370f8c-760e-407a-fb69-35fc6a820b54"
      },
      "execution_count": null,
      "outputs": [
        {
          "output_type": "stream",
          "name": "stdout",
          "text": [
            "10\n",
            "Muskan\n"
          ]
        }
      ]
    },
    {
      "cell_type": "code",
      "source": [
        "#Casting\n",
        "x = str(3)\n",
        "y = int(3)\n",
        "z = float(3)\n",
        "print(x)\n",
        "print(y)\n",
        "print(z)\n"
      ],
      "metadata": {
        "colab": {
          "base_uri": "https://localhost:8080/"
        },
        "id": "70MG1LLYsTam",
        "outputId": "c59c89dc-5949-4012-f0b4-0cbee0e7728c"
      },
      "execution_count": null,
      "outputs": [
        {
          "output_type": "stream",
          "name": "stdout",
          "text": [
            "3\n",
            "3\n",
            "3.0\n"
          ]
        }
      ]
    },
    {
      "cell_type": "code",
      "source": [
        "#Type Function\n",
        "x = 5\n",
        "y= \"Muskan\"\n",
        "print(type(x))\n",
        "print(type(y))\n"
      ],
      "metadata": {
        "colab": {
          "base_uri": "https://localhost:8080/"
        },
        "id": "DRUMp43Ts2aP",
        "outputId": "bbf66973-19ff-47dc-dbd1-365fb90af6db"
      },
      "execution_count": null,
      "outputs": [
        {
          "output_type": "stream",
          "name": "stdout",
          "text": [
            "<class 'int'>\n",
            "<class 'str'>\n"
          ]
        }
      ]
    },
    {
      "cell_type": "code",
      "source": [
        "# double quote and single quote\n",
        "x = \"Muskan\"\n",
        "# same as a\n",
        "y = 'Muskan'\n",
        "print(x)\n",
        "print(y)\n"
      ],
      "metadata": {
        "colab": {
          "base_uri": "https://localhost:8080/"
        },
        "id": "VO4IPuIctRz3",
        "outputId": "5cd1817a-db47-48e0-f52e-b858ee02c648"
      },
      "execution_count": null,
      "outputs": [
        {
          "output_type": "stream",
          "name": "stdout",
          "text": [
            "Muskan\n",
            "Muskan\n"
          ]
        }
      ]
    },
    {
      "cell_type": "code",
      "source": [
        "# Case-Sensitive\n",
        "x = 4\n",
        "X = \"muskan\"\n",
        "print(x)\n",
        "print(X)\n",
        "#X will not overwrite x"
      ],
      "metadata": {
        "colab": {
          "base_uri": "https://localhost:8080/"
        },
        "id": "5EpoSfD3tpwf",
        "outputId": "4ec30184-8f1f-4154-fa89-d7290da6a5c0"
      },
      "execution_count": null,
      "outputs": [
        {
          "output_type": "stream",
          "name": "stdout",
          "text": [
            "4\n",
            "muskan\n"
          ]
        }
      ]
    },
    {
      "cell_type": "code",
      "source": [
        "#Variable Names\n",
        "myVariable = 10\n",
        "#camel-case\n",
        "MyVariable = 15\n",
        "#pascal-case\n",
        "#snake\n",
        "my_variable = 20\n",
        "print(myVariable)\n",
        "print(MyVariable)\n",
        "print(my_variable)"
      ],
      "metadata": {
        "colab": {
          "base_uri": "https://localhost:8080/"
        },
        "id": "9Xvw5fMNuomf",
        "outputId": "ae8fa43d-a86d-47f3-c33e-82e33cd163c6"
      },
      "execution_count": null,
      "outputs": [
        {
          "output_type": "stream",
          "name": "stdout",
          "text": [
            "10\n",
            "15\n",
            "20\n"
          ]
        }
      ]
    },
    {
      "cell_type": "code",
      "source": [
        "# Many Value to multiple Variable\n",
        "x, y, z = \"muskan\", 19, 20\n",
        "print(x)\n",
        "print(y)\n",
        "print(z)\n"
      ],
      "metadata": {
        "colab": {
          "base_uri": "https://localhost:8080/"
        },
        "id": "cj6FD_bEvut_",
        "outputId": "7cdb73b4-d022-4a88-aa18-60dccb185844"
      },
      "execution_count": null,
      "outputs": [
        {
          "output_type": "stream",
          "name": "stdout",
          "text": [
            "muskan\n",
            "19\n",
            "20\n"
          ]
        }
      ]
    },
    {
      "cell_type": "code",
      "source": [
        "x=y=z=\"muskan\"\n",
        "print(x)\n",
        "print(y)\n",
        "print(z)\n",
        "\n"
      ],
      "metadata": {
        "colab": {
          "base_uri": "https://localhost:8080/"
        },
        "id": "Ix3QbjJUwSZ3",
        "outputId": "d257fa98-4864-42ac-daf1-198f03e54466"
      },
      "execution_count": null,
      "outputs": [
        {
          "output_type": "stream",
          "name": "stdout",
          "text": [
            "muskan\n",
            "muskan\n",
            "muskan\n"
          ]
        }
      ]
    },
    {
      "cell_type": "code",
      "source": [
        "\"\"\" Hello Muskan\n",
        "How Are you?? \"\"\""
      ],
      "metadata": {
        "colab": {
          "base_uri": "https://localhost:8080/",
          "height": 35
        },
        "id": "iCX2XWmwwlen",
        "outputId": "b68aa177-ceda-449b-84eb-2650f599f26c"
      },
      "execution_count": null,
      "outputs": [
        {
          "output_type": "execute_result",
          "data": {
            "text/plain": [
              "' Hello Muskan\\nHow Are you?? '"
            ],
            "application/vnd.google.colaboratory.intrinsic+json": {
              "type": "string"
            }
          },
          "metadata": {},
          "execution_count": 21
        }
      ]
    },
    {
      "cell_type": "code",
      "source": [
        "#Unpack Collection\n",
        "fruits = [\"apple\", \"orange\", \"mango\"]\n",
        "x,y,z=fruits\n",
        "print(x)\n",
        "print(y)\n",
        "print(z)"
      ],
      "metadata": {
        "colab": {
          "base_uri": "https://localhost:8080/"
        },
        "id": "XDB2qJFGwx0W",
        "outputId": "9ff41a0f-28a1-4592-d328-8a36d655ab74"
      },
      "execution_count": null,
      "outputs": [
        {
          "output_type": "stream",
          "name": "stdout",
          "text": [
            "apple\n",
            "orange\n",
            "mango\n"
          ]
        }
      ]
    },
    {
      "cell_type": "code",
      "source": [
        "x = \"hello \"\n",
        "y =\"muskan \"\n",
        "z = \"kurmi\"\n",
        "print(x,y,z)\n",
        "print(x + y + z)"
      ],
      "metadata": {
        "colab": {
          "base_uri": "https://localhost:8080/"
        },
        "id": "edHMDRBZxxyf",
        "outputId": "5fecc0b6-5355-426f-caca-66451ffa4513"
      },
      "execution_count": null,
      "outputs": [
        {
          "output_type": "stream",
          "name": "stdout",
          "text": [
            "hello  muskan  kurmi\n",
            "hello muskan kurmi\n"
          ]
        }
      ]
    },
    {
      "cell_type": "code",
      "source": [
        "cars = [\"maruti\", \"suzuki\", \"honda\", \"tesla\"]\n",
        "a,b,c,d = cars\n",
        "print(a,b,c,d);"
      ],
      "metadata": {
        "id": "X9Jb6N9Z5OcX",
        "colab": {
          "base_uri": "https://localhost:8080/"
        },
        "outputId": "d4753f1a-f263-4878-a136-7f768b4fe591"
      },
      "execution_count": null,
      "outputs": [
        {
          "output_type": "stream",
          "name": "stdout",
          "text": [
            "maruti suzuki honda tesla\n"
          ]
        }
      ]
    },
    {
      "cell_type": "markdown",
      "source": [
        "# ***Practice***"
      ],
      "metadata": {
        "id": "4Po0VRanitv3"
      }
    },
    {
      "cell_type": "code",
      "source": [],
      "metadata": {
        "id": "4LkZRVNEijFP"
      },
      "execution_count": null,
      "outputs": []
    },
    {
      "cell_type": "code",
      "source": [],
      "metadata": {
        "id": "ZHyGT1bjibH3"
      },
      "execution_count": null,
      "outputs": []
    }
  ]
}