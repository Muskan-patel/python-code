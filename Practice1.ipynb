{
  "nbformat": 4,
  "nbformat_minor": 0,
  "metadata": {
    "colab": {
      "provenance": [],
      "authorship_tag": "ABX9TyOYFo68sGQ2yAkqiQ1H8gm8",
      "include_colab_link": true
    },
    "kernelspec": {
      "name": "python3",
      "display_name": "Python 3"
    },
    "language_info": {
      "name": "python"
    }
  },
  "cells": [
    {
      "cell_type": "markdown",
      "metadata": {
        "id": "view-in-github",
        "colab_type": "text"
      },
      "source": [
        "<a href=\"https://colab.research.google.com/github/Muskan-patel/python-code/blob/main/Practice1.ipynb\" target=\"_parent\"><img src=\"https://colab.research.google.com/assets/colab-badge.svg\" alt=\"Open In Colab\"/></a>"
      ]
    },
    {
      "cell_type": "markdown",
      "source": [
        "TUPLES"
      ],
      "metadata": {
        "id": "h_xai_OkcPWb"
      }
    },
    {
      "cell_type": "code",
      "execution_count": null,
      "metadata": {
        "id": "MnW7J_3JiA6M",
        "colab": {
          "base_uri": "https://localhost:8080/"
        },
        "outputId": "7200d239-6286-4191-d48c-4f3bceace4cb"
      },
      "outputs": [
        {
          "output_type": "execute_result",
          "data": {
            "text/plain": [
              "tuple"
            ]
          },
          "metadata": {},
          "execution_count": 3
        }
      ],
      "source": [
        "tup1 = (1,'a',True,2,'b',False)\n",
        "type(tup1)"
      ]
    },
    {
      "cell_type": "code",
      "source": [
        "tup1 = (1,\"a\", 2, \"b\", \"M\", \"A\")\n",
        "tup1[1]\n",
        "#tup1[-1]\n"
      ],
      "metadata": {
        "colab": {
          "base_uri": "https://localhost:8080/",
          "height": 36
        },
        "id": "KeX2oWVK3qBg",
        "outputId": "a2adaf13-ca5b-4a7d-e07f-7713762f3735"
      },
      "execution_count": null,
      "outputs": [
        {
          "output_type": "execute_result",
          "data": {
            "text/plain": [
              "'a'"
            ],
            "application/vnd.google.colaboratory.intrinsic+json": {
              "type": "string"
            }
          },
          "metadata": {},
          "execution_count": 8
        }
      ]
    },
    {
      "cell_type": "code",
      "source": [
        "# we cannot tup1[2] = \"M\";\n"
      ],
      "metadata": {
        "id": "k6btTxwK5ch4"
      },
      "execution_count": null,
      "outputs": []
    },
    {
      "cell_type": "code",
      "source": [
        "#operation on tuple\n",
        "#finding len\n",
        "len(tup1)"
      ],
      "metadata": {
        "colab": {
          "base_uri": "https://localhost:8080/"
        },
        "id": "8pTMueUr5sTw",
        "outputId": "c31f2f9f-0ed5-4406-b4bc-7b6e5ded9188"
      },
      "execution_count": null,
      "outputs": [
        {
          "output_type": "execute_result",
          "data": {
            "text/plain": [
              "6"
            ]
          },
          "metadata": {},
          "execution_count": 12
        }
      ]
    },
    {
      "cell_type": "code",
      "source": [
        "#concatenating tuple\n",
        "tup2 = (1,2,3)\n",
        "tup3 = (4,5,6)\n",
        "tup2+tup3"
      ],
      "metadata": {
        "colab": {
          "base_uri": "https://localhost:8080/"
        },
        "id": "McHabgNM5yzM",
        "outputId": "8366fe0f-8394-49ed-a50c-a28587020bad"
      },
      "execution_count": null,
      "outputs": [
        {
          "output_type": "execute_result",
          "data": {
            "text/plain": [
              "(1, 2, 3, 4, 5, 6)"
            ]
          },
          "metadata": {},
          "execution_count": 14
        }
      ]
    },
    {
      "cell_type": "code",
      "source": [
        "#repeating\n",
        "tup1*3"
      ],
      "metadata": {
        "colab": {
          "base_uri": "https://localhost:8080/"
        },
        "id": "K9jNtIKU7Nil",
        "outputId": "319cabbd-e960-40ab-8dab-2c8c855bde11"
      },
      "execution_count": null,
      "outputs": [
        {
          "output_type": "execute_result",
          "data": {
            "text/plain": [
              "(1, 'a', 2, 'b', 'M', 'A', 1, 'a', 2, 'b', 'M', 'A', 1, 'a', 2, 'b', 'M', 'A')"
            ]
          },
          "metadata": {},
          "execution_count": 15
        }
      ]
    },
    {
      "cell_type": "code",
      "source": [
        "#function in tuple\n",
        "max(tup2)"
      ],
      "metadata": {
        "colab": {
          "base_uri": "https://localhost:8080/"
        },
        "id": "ndosu0JA7xoI",
        "outputId": "79812df5-665d-49ba-fc61-350fb33ea339"
      },
      "execution_count": null,
      "outputs": [
        {
          "output_type": "execute_result",
          "data": {
            "text/plain": [
              "3"
            ]
          },
          "metadata": {},
          "execution_count": 17
        }
      ]
    },
    {
      "cell_type": "code",
      "source": [
        "min(tup3)"
      ],
      "metadata": {
        "colab": {
          "base_uri": "https://localhost:8080/"
        },
        "id": "fUOMeAfB71ES",
        "outputId": "219a7e59-5488-4470-f641-4dc2339e4213"
      },
      "execution_count": null,
      "outputs": [
        {
          "output_type": "execute_result",
          "data": {
            "text/plain": [
              "4"
            ]
          },
          "metadata": {},
          "execution_count": 19
        }
      ]
    },
    {
      "cell_type": "code",
      "source": [
        "# repeating and concatenating\n",
        "tup2*2 + tup3"
      ],
      "metadata": {
        "colab": {
          "base_uri": "https://localhost:8080/"
        },
        "id": "ukwfnX267RZj",
        "outputId": "dd02e4bd-8b53-4951-caf3-8050d5e7b681"
      },
      "execution_count": null,
      "outputs": [
        {
          "output_type": "execute_result",
          "data": {
            "text/plain": [
              "(1, 2, 3, 1, 2, 3, 4, 5, 6)"
            ]
          },
          "metadata": {},
          "execution_count": 16
        }
      ]
    },
    {
      "cell_type": "code",
      "source": [
        "l1 = (1,\"a\", 2, \"b\", \"M\", \"A\")\n",
        "l1"
      ],
      "metadata": {
        "colab": {
          "base_uri": "https://localhost:8080/"
        },
        "id": "y2reP6j39PeP",
        "outputId": "a36db749-3ffe-4b37-e49e-214a17d60a15"
      },
      "execution_count": null,
      "outputs": [
        {
          "output_type": "execute_result",
          "data": {
            "text/plain": [
              "(1, 'a', 2, 'b', 'M', 'A')"
            ]
          },
          "metadata": {},
          "execution_count": 22
        }
      ]
    },
    {
      "cell_type": "code",
      "source": [
        "l1[1]"
      ],
      "metadata": {
        "colab": {
          "base_uri": "https://localhost:8080/",
          "height": 36
        },
        "id": "xfSXbuqJ9bm3",
        "outputId": "3c53ec13-4c50-4676-a36d-279e3fcbfa3f"
      },
      "execution_count": null,
      "outputs": [
        {
          "output_type": "execute_result",
          "data": {
            "text/plain": [
              "'a'"
            ],
            "application/vnd.google.colaboratory.intrinsic+json": {
              "type": "string"
            }
          },
          "metadata": {},
          "execution_count": 23
        }
      ]
    },
    {
      "cell_type": "code",
      "source": [
        "l1[2:5]"
      ],
      "metadata": {
        "colab": {
          "base_uri": "https://localhost:8080/"
        },
        "id": "F2o0Z8UO9jKU",
        "outputId": "d92896df-708c-4f98-9d84-97196c7983cc"
      },
      "execution_count": null,
      "outputs": [
        {
          "output_type": "execute_result",
          "data": {
            "text/plain": [
              "(2, 'b', 'M')"
            ]
          },
          "metadata": {},
          "execution_count": 24
        }
      ]
    },
    {
      "cell_type": "code",
      "source": [
        "#changes in list\n",
        "l1 = [1,\"a\",2,\"b\",3,\"c\"]\n",
        "l1[0] = 100\n",
        "l1"
      ],
      "metadata": {
        "colab": {
          "base_uri": "https://localhost:8080/"
        },
        "id": "qatWFJ5H-BWK",
        "outputId": "40cf3064-b34e-4c3a-b5cf-4e16ca8e2dcc"
      },
      "execution_count": null,
      "outputs": [
        {
          "output_type": "execute_result",
          "data": {
            "text/plain": [
              "[100, 'a', 2, 'b', 3, 'c']"
            ]
          },
          "metadata": {},
          "execution_count": 25
        }
      ]
    },
    {
      "cell_type": "code",
      "source": [
        "#Append number\n",
        "l1.append(2)\n",
        "l1"
      ],
      "metadata": {
        "colab": {
          "base_uri": "https://localhost:8080/"
        },
        "id": "2Eu34K0U-R1B",
        "outputId": "ad33e856-9f6a-423f-d1eb-0cc4123ed81e"
      },
      "execution_count": null,
      "outputs": [
        {
          "output_type": "execute_result",
          "data": {
            "text/plain": [
              "[100, 'a', 2, 'b', 3, 'c', 4, 4, 4, 1, 2]"
            ]
          },
          "metadata": {},
          "execution_count": 30
        }
      ]
    },
    {
      "cell_type": "code",
      "source": [
        "#Popping the last element\n",
        "l1.pop()\n",
        "l1\n",
        "l1\n",
        "l1\n",
        "l1\n",
        "l1"
      ],
      "metadata": {
        "colab": {
          "base_uri": "https://localhost:8080/"
        },
        "id": "XsGxeMlU-l7r",
        "outputId": "a248fd05-bdc4-462c-9050-5e8569bfac14"
      },
      "execution_count": null,
      "outputs": [
        {
          "output_type": "execute_result",
          "data": {
            "text/plain": [
              "[100, 'a', 2, 'b', 3, 'c']"
            ]
          },
          "metadata": {},
          "execution_count": 35
        }
      ]
    },
    {
      "cell_type": "code",
      "source": [
        "l1 = (1,2,3,4)\n",
        "type(l1)\n",
        "\n"
      ],
      "metadata": {
        "colab": {
          "base_uri": "https://localhost:8080/"
        },
        "id": "TeakmFATAqat",
        "outputId": "1c3e3b44-515b-4c9d-fab4-bc53e54b9eef"
      },
      "execution_count": null,
      "outputs": [
        {
          "output_type": "execute_result",
          "data": {
            "text/plain": [
              "tuple"
            ]
          },
          "metadata": {},
          "execution_count": 88
        }
      ]
    },
    {
      "cell_type": "markdown",
      "source": [
        "LIST"
      ],
      "metadata": {
        "id": "SHpl9fqTcJUU"
      }
    },
    {
      "cell_type": "code",
      "source": [
        "#list\n",
        "l5 = [1,2,3,4,5,6,7,8,9,0]\n",
        "type(l5)\n",
        "l5.reverse()\n",
        "l5"
      ],
      "metadata": {
        "colab": {
          "base_uri": "https://localhost:8080/"
        },
        "id": "QmyYoNx1BsNC",
        "outputId": "28dde795-8561-49e4-e303-01997c34ae25"
      },
      "execution_count": null,
      "outputs": [
        {
          "output_type": "execute_result",
          "data": {
            "text/plain": [
              "[0, 9, 8, 7, 6, 5, 4, 3, 2, 1]"
            ]
          },
          "metadata": {},
          "execution_count": 48
        }
      ]
    },
    {
      "cell_type": "code",
      "source": [
        "l5.insert(0, 0)\n",
        "l5"
      ],
      "metadata": {
        "colab": {
          "base_uri": "https://localhost:8080/"
        },
        "id": "Jq5mQaxcCIHj",
        "outputId": "b5a88b86-a438-412b-e6fd-4a1d62c5c586"
      },
      "execution_count": null,
      "outputs": [
        {
          "output_type": "execute_result",
          "data": {
            "text/plain": [
              "[0, 0, 9, 8, 7, 6, 5, 4, 3, 2, 1]"
            ]
          },
          "metadata": {},
          "execution_count": 49
        }
      ]
    },
    {
      "cell_type": "code",
      "source": [
        "l5.sort()\n",
        "l5"
      ],
      "metadata": {
        "colab": {
          "base_uri": "https://localhost:8080/"
        },
        "id": "8xvNzrqDCnhe",
        "outputId": "d4188c91-ec17-412d-a9c4-b8f8647c9d49"
      },
      "execution_count": null,
      "outputs": [
        {
          "output_type": "execute_result",
          "data": {
            "text/plain": [
              "[0, 0, 1, 2, 3, 4, 5, 6, 7, 8, 9]"
            ]
          },
          "metadata": {},
          "execution_count": 52
        }
      ]
    },
    {
      "cell_type": "code",
      "source": [
        "la = [1,2,3]\n",
        "lb = [4,5,6]\n",
        "la+lb"
      ],
      "metadata": {
        "colab": {
          "base_uri": "https://localhost:8080/"
        },
        "id": "cl4Wv1inD4wP",
        "outputId": "154338e3-4361-4e44-e8c1-3f3efb7a9b9a"
      },
      "execution_count": null,
      "outputs": [
        {
          "output_type": "execute_result",
          "data": {
            "text/plain": [
              "[1, 2, 3, 4, 5, 6]"
            ]
          },
          "metadata": {},
          "execution_count": 53
        }
      ]
    },
    {
      "cell_type": "code",
      "source": [
        "l5*2"
      ],
      "metadata": {
        "colab": {
          "base_uri": "https://localhost:8080/"
        },
        "id": "sO5QJKaHEMuj",
        "outputId": "445a4f34-2bd1-4e88-9be9-fc520477c657"
      },
      "execution_count": null,
      "outputs": [
        {
          "output_type": "execute_result",
          "data": {
            "text/plain": [
              "[0, 0, 1, 2, 3, 4, 5, 6, 7, 8, 9, 0, 0, 1, 2, 3, 4, 5, 6, 7, 8, 9]"
            ]
          },
          "metadata": {},
          "execution_count": 54
        }
      ]
    },
    {
      "cell_type": "markdown",
      "source": [
        "DICTIONARY"
      ],
      "metadata": {
        "id": "bKULUWvlb-DZ"
      }
    },
    {
      "cell_type": "code",
      "source": [
        "#Dictionary\n",
        "fruit = {\"apple\":10, \"orange\":20, \"banana\": 30}\n",
        "type(fruit)\n",
        "fruit"
      ],
      "metadata": {
        "id": "nwPzOvscEUjM",
        "colab": {
          "base_uri": "https://localhost:8080/"
        },
        "outputId": "3f1539f0-b9fd-46a2-82fb-1f6f6f4fd41d"
      },
      "execution_count": null,
      "outputs": [
        {
          "output_type": "execute_result",
          "data": {
            "text/plain": [
              "{'apple': 10, 'orange': 20, 'banana': 30}"
            ]
          },
          "metadata": {},
          "execution_count": 66
        }
      ]
    },
    {
      "cell_type": "code",
      "source": [
        "fruit.keys()"
      ],
      "metadata": {
        "colab": {
          "base_uri": "https://localhost:8080/"
        },
        "id": "pgTf9JIsLA5v",
        "outputId": "218d0aa1-ea31-4cf4-c7e2-085eef389da4"
      },
      "execution_count": null,
      "outputs": [
        {
          "output_type": "execute_result",
          "data": {
            "text/plain": [
              "dict_keys(['apple', 'orange', 'banana'])"
            ]
          },
          "metadata": {},
          "execution_count": 67
        }
      ]
    },
    {
      "cell_type": "code",
      "source": [
        "fruit.values()"
      ],
      "metadata": {
        "colab": {
          "base_uri": "https://localhost:8080/"
        },
        "id": "oDHAwpEqLGKI",
        "outputId": "4231a31c-c624-48d5-ab7f-7379e809cb6e"
      },
      "execution_count": null,
      "outputs": [
        {
          "output_type": "execute_result",
          "data": {
            "text/plain": [
              "dict_values([10, 20, 30])"
            ]
          },
          "metadata": {},
          "execution_count": 68
        }
      ]
    },
    {
      "cell_type": "code",
      "source": [
        "fruit[\"mangoe\"] = 50\n",
        "fruit"
      ],
      "metadata": {
        "colab": {
          "base_uri": "https://localhost:8080/"
        },
        "id": "bAN21FgJLdKA",
        "outputId": "2a7bee41-ef9d-4ea2-9539-5b61d0eab6a6"
      },
      "execution_count": null,
      "outputs": [
        {
          "output_type": "execute_result",
          "data": {
            "text/plain": [
              "{'apple': 10, 'orange': 20, 'banana': 30, 'mangoe': 50}"
            ]
          },
          "metadata": {},
          "execution_count": 70
        }
      ]
    },
    {
      "cell_type": "code",
      "source": [
        "fruit[\"apple\"] = 100\n",
        "fruit"
      ],
      "metadata": {
        "colab": {
          "base_uri": "https://localhost:8080/"
        },
        "id": "jcf0OfijLob2",
        "outputId": "84994a3f-3f5d-404a-af2b-ffb0a8e7d282"
      },
      "execution_count": null,
      "outputs": [
        {
          "output_type": "execute_result",
          "data": {
            "text/plain": [
              "{'apple': 100, 'orange': 20, 'banana': 30, 'mangoe': 50, 'Apple': 100}"
            ]
          },
          "metadata": {},
          "execution_count": 73
        }
      ]
    },
    {
      "cell_type": "code",
      "source": [
        "fruit1 = {\"apple\": 2, \"orange\": 3}\n",
        "fruit2 = {\"banana\": 4, \"mango\": 5}\n",
        "fruit1.update(fruit2)\n",
        "fruit1"
      ],
      "metadata": {
        "colab": {
          "base_uri": "https://localhost:8080/"
        },
        "id": "kiU5FZfTMUdi",
        "outputId": "cee71a61-8181-4b56-86b4-06975bf60e41"
      },
      "execution_count": null,
      "outputs": [
        {
          "output_type": "execute_result",
          "data": {
            "text/plain": [
              "{'apple': 2, 'orange': 3, 'banana': 4, 'mango': 5}"
            ]
          },
          "metadata": {},
          "execution_count": 74
        }
      ]
    },
    {
      "cell_type": "code",
      "source": [
        "#fruit.pop(\"orange\")\n",
        "fruit\n",
        "fruit"
      ],
      "metadata": {
        "colab": {
          "base_uri": "https://localhost:8080/"
        },
        "id": "KGTR0OOxMpAg",
        "outputId": "a3b33142-a996-46b5-85f2-0b4c6337702c"
      },
      "execution_count": null,
      "outputs": [
        {
          "output_type": "execute_result",
          "data": {
            "text/plain": [
              "{'banana': 30, 'mangoe': 50, 'Apple': 100}"
            ]
          },
          "metadata": {},
          "execution_count": 81
        }
      ]
    },
    {
      "cell_type": "markdown",
      "source": [
        "**SETS**"
      ],
      "metadata": {
        "id": "CGF2OZ3Cb0jU"
      }
    },
    {
      "cell_type": "code",
      "source": [
        "s1 = {1,2,3,4,5,6}\n",
        "type(s1)"
      ],
      "metadata": {
        "colab": {
          "base_uri": "https://localhost:8080/"
        },
        "id": "-uRmYnrOaNBm",
        "outputId": "e9abcbfc-7322-40b5-d5de-b2bdbc1afc04"
      },
      "execution_count": null,
      "outputs": [
        {
          "output_type": "execute_result",
          "data": {
            "text/plain": [
              "set"
            ]
          },
          "metadata": {},
          "execution_count": 82
        }
      ]
    },
    {
      "cell_type": "code",
      "source": [
        "s1.add(\"muskan\")\n",
        "s1"
      ],
      "metadata": {
        "colab": {
          "base_uri": "https://localhost:8080/"
        },
        "id": "dSdISOFPaili",
        "outputId": "8f68a246-f537-4d47-e240-fc5cb59a118c"
      },
      "execution_count": null,
      "outputs": [
        {
          "output_type": "execute_result",
          "data": {
            "text/plain": [
              "{1, 2, 3, 4, 5, 6, 'muskan'}"
            ]
          },
          "metadata": {},
          "execution_count": 83
        }
      ]
    },
    {
      "cell_type": "code",
      "source": [
        "s1.update([\"kurmi\", \"muskan\"])\n",
        "s1"
      ],
      "metadata": {
        "colab": {
          "base_uri": "https://localhost:8080/"
        },
        "id": "pEMF5876an30",
        "outputId": "6fc28105-4b66-4f9a-f480-d5e94dca4382"
      },
      "execution_count": null,
      "outputs": [
        {
          "output_type": "execute_result",
          "data": {
            "text/plain": [
              "{1, 2, 3, 4, 5, 6, 'kurmi', 'muskan'}"
            ]
          },
          "metadata": {},
          "execution_count": 84
        }
      ]
    },
    {
      "cell_type": "code",
      "source": [
        "s1.remove(\"muskan\")\n",
        "s1"
      ],
      "metadata": {
        "colab": {
          "base_uri": "https://localhost:8080/"
        },
        "id": "EF4wj6xZa0CU",
        "outputId": "930f0406-ad54-448f-dd75-5d4c76d96fa5"
      },
      "execution_count": null,
      "outputs": [
        {
          "output_type": "execute_result",
          "data": {
            "text/plain": [
              "{1, 2, 3, 4, 5, 6, 'kurmi'}"
            ]
          },
          "metadata": {},
          "execution_count": 85
        }
      ]
    },
    {
      "cell_type": "code",
      "source": [
        "s2 = {1,2,3,4,5,6,7,8,9}\n",
        "s1.union(s2)"
      ],
      "metadata": {
        "colab": {
          "base_uri": "https://localhost:8080/"
        },
        "id": "4_ZRBC34bV4N",
        "outputId": "efa46e75-8052-4168-9af3-219ba20afecc"
      },
      "execution_count": null,
      "outputs": [
        {
          "output_type": "execute_result",
          "data": {
            "text/plain": [
              "{1, 2, 3, 4, 5, 6, 7, 8, 9, 'kurmi'}"
            ]
          },
          "metadata": {},
          "execution_count": 86
        }
      ]
    },
    {
      "cell_type": "code",
      "source": [
        "s2 = {1,2,3,4,5,6,7,8,9}\n",
        "s1.intersection(s2)"
      ],
      "metadata": {
        "colab": {
          "base_uri": "https://localhost:8080/"
        },
        "id": "L65Q7rBvblCW",
        "outputId": "b4298e18-677c-4d1d-a68a-23dc58c546bf"
      },
      "execution_count": null,
      "outputs": [
        {
          "output_type": "execute_result",
          "data": {
            "text/plain": [
              "{1, 2, 3, 4, 5, 6}"
            ]
          },
          "metadata": {},
          "execution_count": 87
        }
      ]
    },
    {
      "cell_type": "code",
      "source": [
        "a = 10\n",
        "b = 20\n",
        "a,b = b,a\n",
        "print(a,b)"
      ],
      "metadata": {
        "colab": {
          "base_uri": "https://localhost:8080/"
        },
        "id": "zGrBkarfdosO",
        "outputId": "d4a54e11-8dd8-4dfd-f950-d69658245cc0"
      },
      "execution_count": null,
      "outputs": [
        {
          "output_type": "stream",
          "name": "stdout",
          "text": [
            "20 10\n"
          ]
        }
      ]
    },
    {
      "cell_type": "code",
      "source": [
        "x = 5\n",
        "y = 10\n",
        "if x>y:\n",
        "  print(\"x is greater than y\")\n",
        "else:\n",
        "  print(\"y is greater than x\")"
      ],
      "metadata": {
        "colab": {
          "base_uri": "https://localhost:8080/"
        },
        "id": "0Q6J4_0idt7t",
        "outputId": "a86c5a04-5a18-4012-86c3-72c6bc81fcf7"
      },
      "execution_count": null,
      "outputs": [
        {
          "output_type": "stream",
          "name": "stdout",
          "text": [
            "y is greater than x\n"
          ]
        }
      ]
    },
    {
      "cell_type": "code",
      "source": [
        "age = int(input(\"Enter your age: \"))\n",
        "if age>=18:\n",
        "  print(\"You are eligible to vote\")\n",
        "else:\n",
        "  print(\"You are not eligible to vote\")"
      ],
      "metadata": {
        "colab": {
          "base_uri": "https://localhost:8080/"
        },
        "id": "yPnV1WQleDl4",
        "outputId": "9f870f83-f1c2-4b2f-bf9a-12cc75b60afb"
      },
      "execution_count": null,
      "outputs": [
        {
          "output_type": "stream",
          "name": "stdout",
          "text": [
            "Enter your age: 20\n",
            "You are eligible to vote\n"
          ]
        }
      ]
    },
    {
      "cell_type": "code",
      "source": [
        "day = input(\"Enter the day: \")\n",
        "if day == \"Monday\":\n",
        "  print(\"Today is Monday\")\n",
        "elif day == \"Tuesday\":\n",
        "  print(\"Today is Tuesday\")\n",
        "elif day == \"Wednesday\":\n",
        "  print(\"Today is Wednesday\")\n"
      ],
      "metadata": {
        "colab": {
          "base_uri": "https://localhost:8080/"
        },
        "id": "n8RErUUBenvo",
        "outputId": "17c1f8ee-439a-4c1d-8a11-d40e8e06d1d4"
      },
      "execution_count": null,
      "outputs": [
        {
          "name": "stdout",
          "output_type": "stream",
          "text": [
            "Enter the day: monday\n"
          ]
        }
      ]
    },
    {
      "cell_type": "code",
      "source": [
        "t1 = (1,2,3,4,5,6,7,8,9)\n",
        "if 8 in t1:\n",
        "  print(\"8 is present in tuple\")\n",
        "else:\n",
        "  print(\"8 is not present in tuple\")"
      ],
      "metadata": {
        "colab": {
          "base_uri": "https://localhost:8080/"
        },
        "id": "eXSUkySCfHsL",
        "outputId": "97010799-e211-4dcc-c922-cb00ddc2ed36"
      },
      "execution_count": null,
      "outputs": [
        {
          "output_type": "stream",
          "name": "stdout",
          "text": [
            "8 is present in tuple\n"
          ]
        }
      ]
    },
    {
      "cell_type": "code",
      "source": [
        "li = [2,4,6,8]\n",
        "type(li)"
      ],
      "metadata": {
        "colab": {
          "base_uri": "https://localhost:8080/"
        },
        "id": "nsQMcThYf101",
        "outputId": "490c2121-7e88-4223-b122-292decffebf2"
      },
      "execution_count": null,
      "outputs": [
        {
          "output_type": "execute_result",
          "data": {
            "text/plain": [
              "list"
            ]
          },
          "metadata": {},
          "execution_count": 99
        }
      ]
    },
    {
      "cell_type": "code",
      "source": [
        "if li[2]==6:\n",
        "  li[2]=li[2]+100"
      ],
      "metadata": {
        "id": "BJ3jN2jRgUmk"
      },
      "execution_count": null,
      "outputs": []
    },
    {
      "cell_type": "code",
      "source": [
        "li"
      ],
      "metadata": {
        "colab": {
          "base_uri": "https://localhost:8080/"
        },
        "id": "z5dQmz8IgtPS",
        "outputId": "c1ff7825-7ed4-4a7d-ef4f-ae8e60adfd52"
      },
      "execution_count": null,
      "outputs": [
        {
          "output_type": "execute_result",
          "data": {
            "text/plain": [
              "[2, 4, 106, 8]"
            ]
          },
          "metadata": {},
          "execution_count": 106
        }
      ]
    },
    {
      "cell_type": "code",
      "source": [
        "di = {\"a\":10, \"b\":20, \"c\":30}\n",
        "type(di)"
      ],
      "metadata": {
        "colab": {
          "base_uri": "https://localhost:8080/"
        },
        "id": "BZ7CZAnchB8_",
        "outputId": "17e5cd97-f46f-4bdf-fb42-c88166020bc0"
      },
      "execution_count": null,
      "outputs": [
        {
          "output_type": "execute_result",
          "data": {
            "text/plain": [
              "dict"
            ]
          },
          "metadata": {},
          "execution_count": 107
        }
      ]
    },
    {
      "cell_type": "code",
      "source": [
        "i=1"
      ],
      "metadata": {
        "id": "6XxjibFQj693"
      },
      "execution_count": null,
      "outputs": []
    },
    {
      "cell_type": "code",
      "source": [
        "while i<=10:\n",
        "  print(i)\n",
        "  i=i+1\n"
      ],
      "metadata": {
        "id": "xhE7CbIQkDxt"
      },
      "execution_count": null,
      "outputs": []
    },
    {
      "cell_type": "code",
      "source": [
        "i"
      ],
      "metadata": {
        "colab": {
          "base_uri": "https://localhost:8080/"
        },
        "id": "0QErX_4ckYDb",
        "outputId": "68de6c06-c263-45b9-9108-141a940ee5f5"
      },
      "execution_count": null,
      "outputs": [
        {
          "output_type": "execute_result",
          "data": {
            "text/plain": [
              "11"
            ]
          },
          "metadata": {},
          "execution_count": 116
        }
      ]
    },
    {
      "cell_type": "code",
      "source": [
        " l0 = [\"apple\",\"banana\",\"orange\"]\n",
        " type(l0)"
      ],
      "metadata": {
        "colab": {
          "base_uri": "https://localhost:8080/"
        },
        "id": "k_35UxKNlhba",
        "outputId": "bbdc52da-9409-440e-ee79-92b1a4e12c08"
      },
      "execution_count": null,
      "outputs": [
        {
          "output_type": "execute_result",
          "data": {
            "text/plain": [
              "list"
            ]
          },
          "metadata": {},
          "execution_count": 120
        }
      ]
    },
    {
      "cell_type": "code",
      "source": [
        "for i in l0:\n",
        "  print(i)"
      ],
      "metadata": {
        "colab": {
          "base_uri": "https://localhost:8080/"
        },
        "id": "P9RI7OBhm6nl",
        "outputId": "af9a2b34-8fd0-4330-9b40-7a6c4710a5c0"
      },
      "execution_count": null,
      "outputs": [
        {
          "output_type": "stream",
          "name": "stdout",
          "text": [
            "apple\n",
            "banana\n",
            "orange\n"
          ]
        }
      ]
    },
    {
      "cell_type": "code",
      "source": [
        "l0 = [\"orange\",\"apple\",\"charry\"]\n",
        "lo = [\"juice\",\"red\",\"black\"]"
      ],
      "metadata": {
        "id": "DIMmcfoInHs-"
      },
      "execution_count": null,
      "outputs": []
    },
    {
      "cell_type": "code",
      "source": [
        "for i in l0:\n",
        "   # for j in lo:\n",
        "      print(i)"
      ],
      "metadata": {
        "colab": {
          "base_uri": "https://localhost:8080/"
        },
        "id": "KA27TrH3ncQR",
        "outputId": "5049d230-010d-4510-ce85-c51ade7e3a34"
      },
      "execution_count": null,
      "outputs": [
        {
          "output_type": "stream",
          "name": "stdout",
          "text": [
            "apple\n",
            "banana\n",
            "orange\n"
          ]
        }
      ]
    },
    {
      "cell_type": "code",
      "source": [
        "def hello():\n",
        "  print(\"hello muskan\")"
      ],
      "metadata": {
        "id": "Y_j-Hb4S3R-9"
      },
      "execution_count": null,
      "outputs": []
    },
    {
      "cell_type": "code",
      "source": [
        "hello()"
      ],
      "metadata": {
        "colab": {
          "base_uri": "https://localhost:8080/"
        },
        "id": "GFRYCO7R3xvZ",
        "outputId": "10efb08a-77f8-47aa-d391-063d0aef9afd"
      },
      "execution_count": null,
      "outputs": [
        {
          "output_type": "stream",
          "name": "stdout",
          "text": [
            "hello muskan\n"
          ]
        }
      ]
    },
    {
      "cell_type": "code",
      "source": [
        "def add(x):\n",
        "  return x+10\n"
      ],
      "metadata": {
        "id": "J8JybYKR32Ez"
      },
      "execution_count": null,
      "outputs": []
    },
    {
      "cell_type": "code",
      "source": [
        "add(10)"
      ],
      "metadata": {
        "colab": {
          "base_uri": "https://localhost:8080/"
        },
        "id": "duEhJ3hA4PRU",
        "outputId": "fed0fcbf-1e55-4230-ad3b-f500778db875"
      },
      "execution_count": null,
      "outputs": [
        {
          "output_type": "execute_result",
          "data": {
            "text/plain": [
              "20"
            ]
          },
          "metadata": {},
          "execution_count": 8
        }
      ]
    }
  ]
}