{
  "nbformat": 4,
  "nbformat_minor": 0,
  "metadata": {
    "colab": {
      "provenance": [],
      "toc_visible": true,
      "authorship_tag": "ABX9TyMqoJmdfNnwNE2CZhKsiLjV",
      "include_colab_link": true
    },
    "kernelspec": {
      "name": "python3",
      "display_name": "Python 3"
    },
    "language_info": {
      "name": "python"
    }
  },
  "cells": [
    {
      "cell_type": "markdown",
      "metadata": {
        "id": "view-in-github",
        "colab_type": "text"
      },
      "source": [
        "<a href=\"https://colab.research.google.com/github/Muskan-patel/python-code/blob/main/Python_practice.ipynb\" target=\"_parent\"><img src=\"https://colab.research.google.com/assets/colab-badge.svg\" alt=\"Open In Colab\"/></a>"
      ]
    },
    {
      "cell_type": "code",
      "execution_count": null,
      "metadata": {
        "id": "FtXlaDTiSHuE"
      },
      "outputs": [],
      "source": [
        "for i in range(4):\n",
        "  a= input(\"Name of the student\")\n",
        "  b=int(input(\"Enter the marks of maths\"))\n",
        "  c=int(input(\"enter the marks of maths\"))\n",
        "  d=int(input(\"enter  \"))"
      ]
    },
    {
      "cell_type": "code",
      "source": [
        "def electricity_bill(n):\n",
        "  if n<=500:\n",
        "   print(\"Your bill is Rs\", n*5)\n",
        "  elif n>500 and n<=700:\n",
        "   print(\"your bill Rs\", n*10)\n",
        "  elif n>700 and n<=1000:\n",
        "    print(\"your bill is Rs\", n*15)\n",
        "  elif n>1000:\n",
        "    print(\"your bill is Rs\", n*20)\n",
        "for i in range(5):\n",
        "  a = input(\"Enter the name of a customer\")\n",
        "electricity_bill(50);"
      ],
      "metadata": {
        "colab": {
          "base_uri": "https://localhost:8080/"
        },
        "id": "3cWGf35IVEvO",
        "outputId": "0a62354b-d637-48aa-ff79-ab31681dd573"
      },
      "execution_count": null,
      "outputs": [
        {
          "output_type": "stream",
          "name": "stdout",
          "text": [
            "Your bill is Rs 250\n"
          ]
        }
      ]
    },
    {
      "cell_type": "code",
      "source": [
        "x=8\n",
        "y=1.33\n",
        "z=x+y\n",
        "print(z)"
      ],
      "metadata": {
        "colab": {
          "base_uri": "https://localhost:8080/"
        },
        "id": "SCiqObWMZLJf",
        "outputId": "764eeb25-11ad-49f4-9081-199ceebeaff3"
      },
      "execution_count": null,
      "outputs": [
        {
          "output_type": "stream",
          "name": "stdout",
          "text": [
            "9.33\n"
          ]
        }
      ]
    },
    {
      "cell_type": "code",
      "source": [
        "i = 55\n",
        "s = \"apple\"\n",
        "print(s+str(i))\n",
        "print(i)"
      ],
      "metadata": {
        "colab": {
          "base_uri": "https://localhost:8080/"
        },
        "id": "qKFSW3ioZ3Em",
        "outputId": "feafcd18-e8b3-473f-9aca-2af3a2216a54"
      },
      "execution_count": null,
      "outputs": [
        {
          "output_type": "stream",
          "name": "stdout",
          "text": [
            "apple55\n",
            "55\n"
          ]
        }
      ]
    },
    {
      "cell_type": "code",
      "source": [
        "s1 = ''' This is multiline\n",
        "string\n",
        "'''\n",
        "print(s1)"
      ],
      "metadata": {
        "colab": {
          "base_uri": "https://localhost:8080/"
        },
        "id": "G2zL5-IIfGmt",
        "outputId": "c137fbbf-eea5-4dae-f5cd-53494d58937c"
      },
      "execution_count": null,
      "outputs": [
        {
          "output_type": "stream",
          "name": "stdout",
          "text": [
            " This is multiline\n",
            "string\n",
            "\n"
          ]
        }
      ]
    },
    {
      "cell_type": "code",
      "source": [
        "lang = ['Python', 'Java', 'javascript','C++','SQL']\n",
        "print('List of languages are:',lang)"
      ],
      "metadata": {
        "colab": {
          "base_uri": "https://localhost:8080/"
        },
        "id": "twiVda2rfe8s",
        "outputId": "28bc91c6-6936-48dd-ed8e-812f11649145"
      },
      "execution_count": null,
      "outputs": [
        {
          "output_type": "stream",
          "name": "stdout",
          "text": [
            "List of languages are: ['Python', 'Java', 'javascript', 'C++', 'SQL']\n"
          ]
        }
      ]
    },
    {
      "cell_type": "code",
      "source": [
        "s = \"my name is muskan\"\n",
        "len(s)\n"
      ],
      "metadata": {
        "colab": {
          "base_uri": "https://localhost:8080/"
        },
        "id": "Cti5vBjIhoCu",
        "outputId": "818a683a-ee46-4c41-a2d0-31f0fd86b631"
      },
      "execution_count": null,
      "outputs": [
        {
          "output_type": "execute_result",
          "data": {
            "text/plain": [
              "17"
            ]
          },
          "metadata": {},
          "execution_count": 31
        }
      ]
    },
    {
      "cell_type": "code",
      "source": [
        "s.replace('y', 'yy')\n"
      ],
      "metadata": {
        "colab": {
          "base_uri": "https://localhost:8080/",
          "height": 35
        },
        "id": "G-3LTPHEiDsU",
        "outputId": "2ef3d1ba-2325-4dfc-d5b1-e6be973ce634"
      },
      "execution_count": null,
      "outputs": [
        {
          "output_type": "execute_result",
          "data": {
            "text/plain": [
              "'myy name is muskan'"
            ],
            "application/vnd.google.colaboratory.intrinsic+json": {
              "type": "string"
            }
          },
          "metadata": {},
          "execution_count": 32
        }
      ]
    },
    {
      "cell_type": "code",
      "source": [
        "msg = \"my name is is muskan\"\n",
        "msg.count(\"is\")"
      ],
      "metadata": {
        "colab": {
          "base_uri": "https://localhost:8080/"
        },
        "id": "FkSusbTaiZjE",
        "outputId": "f62b52aa-8d9f-4c03-f7e0-e497d5ca011a"
      },
      "execution_count": null,
      "outputs": [
        {
          "output_type": "execute_result",
          "data": {
            "text/plain": [
              "2"
            ]
          },
          "metadata": {},
          "execution_count": 33
        }
      ]
    }
  ]
}